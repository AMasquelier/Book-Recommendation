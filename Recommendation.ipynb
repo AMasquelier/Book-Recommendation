{
 "cells": [
  {
   "cell_type": "code",
   "execution_count": 1,
   "metadata": {},
   "outputs": [],
   "source": [
    "import pandas as pd\n",
    "from matplotlib import pyplot as plt\n",
    "import numpy as np\n",
    "import math\n",
    "import sklearn\n",
    "from plotly import graph_objects as go\n",
    "from plotly import express as px\n",
    "import seaborn as sns\n",
    "from jupyterthemes import jtplot\n",
    "jtplot.style()\n",
    "\n",
    "datapath = \"\"\n",
    "books = pd.read_csv(datapath + \"books.csv\")\n",
    "toRead = pd.read_csv(datapath + \"to_read.csv\")\n",
    "tags = pd.read_csv(datapath + \"tags.csv\")\n",
    "bookTags = pd.read_csv(datapath + \"book_tags.csv\").rename(columns = {'goodreads_book_id': 'book_id'}, inplace = False)\n",
    "ratings = pd.read_csv(datapath + \"ratings.csv\")\n"
   ]
  },
  {
   "cell_type": "code",
   "execution_count": 358,
   "metadata": {},
   "outputs": [],
   "source": [
    "from PIL import Image\n",
    "from IPython.display import HTML\n",
    "import requests\n",
    "\n",
    "def Display_Recommendation(rec, bookId, n=10):\n",
    "    rec = np.array(rec)\n",
    "    ind = np.argsort(rec[:,2])\n",
    "    srec = np.array(rec)[ind][::-1]\n",
    "    srec = srec[:n]\n",
    "    html = ''\n",
    "    print(\"Based on \", books[books[\"book_id\"] ==bookId][\"original_title\"].values[0], \" we recommend : \")\n",
    "    for i in srec:\n",
    "        book = books[books[\"book_id\"] == int(i[0])]\n",
    "        url = book.image_url.values\n",
    "        buf = '<div style=\"float: left; margin-right:30px; width:250px; height:350px\"><img  src=\"#URL#\" width=120/><figcaption>#TITLE#</br>#AUTHOR#</br>#SCORE#</br>ID : #ID#</figcaption></div>'\n",
    "        if url.size > 0:\n",
    "            buf = buf.replace(\"#URL#\", url[0], 1)\n",
    "            buf = buf.replace(\"#TITLE#\", i[1], 1)\n",
    "            buf = buf.replace(\"#AUTHOR#\", book.authors.values[0], 1)\n",
    "            buf = buf.replace(\"#SCORE#\", i[2][:5], 1)\n",
    "            buf = buf.replace(\"#ID#\", i[0], 1)\n",
    "            html += buf\n",
    "            im = Image.open(requests.get(url[0], stream=True).raw)\n",
    "        \n",
    "    display(HTML(html))"
   ]
  },
  {
   "cell_type": "code",
   "execution_count": 205,
   "metadata": {},
   "outputs": [],
   "source": [
    "BookSimMatrix = np.zeros((len(books.values), len(books.values), 3))\n",
    "BookSimMatrix.fill(-2)"
   ]
  },
  {
   "cell_type": "markdown",
   "metadata": {},
   "source": [
    "# Tag based recommendation"
   ]
  },
  {
   "cell_type": "code",
   "execution_count": 163,
   "metadata": {},
   "outputs": [],
   "source": [
    "booksTagLists = {}\n",
    "for i in bookTags.values:\n",
    "    if i[0] in booksTagLists: booksTagLists[i[0]].append([i[1], i[2]])\n",
    "    else:                     booksTagLists[i[0]] = [[i[1], i[2]]]\n",
    "        \n",
    "bookList = {}\n",
    "for i in books.values:\n",
    "    bookList[i[1]] = i[0]"
   ]
  },
  {
   "cell_type": "code",
   "execution_count": 210,
   "metadata": {},
   "outputs": [],
   "source": [
    "from sklearn import preprocessing\n",
    "def Tags2Vec(tagList):\n",
    "    ret = np.zeros(len(tags))\n",
    "    for i in tagList:\n",
    "        ret[i[0]] = 1\n",
    "    return ret\n",
    "\n",
    "def Tags_similarity(bookId1, bookId2):\n",
    "    i = bookList[bookId1]-1\n",
    "    j = bookList[bookId2]-1\n",
    "    ret = BookSimMatrix[i, j, 0]\n",
    "    if ret == -2:\n",
    "        a = booksTagLists[bookId1]\n",
    "        b = booksTagLists[bookId2]\n",
    "        ret = cosine_similarity([Tags2Vec(a)], [Tags2Vec(b)])[0][0]\n",
    "        BookSimMatrix[i, j, 0] = ret\n",
    "        BookSimMatrix[j, i, 0] = ret\n",
    "    return ret"
   ]
  },
  {
   "cell_type": "code",
   "execution_count": 295,
   "metadata": {},
   "outputs": [],
   "source": [
    "from sklearn.metrics.pairwise import cosine_similarity\n",
    "selected = 88077\n",
    "rec = []\n",
    "for b in booksTagLists:\n",
    "    sim = Tags_similarity(selected, b)\n",
    "    if sim > 0.65:\n",
    "        rec.append([b, books[books[\"book_id\"] == b][\"original_title\"].values[0], sim])"
   ]
  },
  {
   "cell_type": "code",
   "execution_count": 345,
   "metadata": {
    "scrolled": true
   },
   "outputs": [
    {
     "name": "stdout",
     "output_type": "stream",
     "text": [
      "(9947, 3)\n",
      "Based on  Der Zauberberg  we recommend : \n"
     ]
    },
    {
     "data": {
      "text/html": [
       "<div style=\"float: left; margin-right:30px; width:250px; height:350px\"><img  src=\"https://images.gr-assets.com/books/1403170928m/88077.jpg\" width=120/><figcaption>Der Zauberberg</br>Thomas Mann, John E. Woods</br>1.000</br>ID : 88077</figcaption></div><div style=\"float: left; margin-right:30px; width:250px; height:350px\"><img  src=\"https://images.gr-assets.com/books/1337128414m/80890.jpg\" width=120/><figcaption>Buddenbrooks: Verfall einer Familie</br>Thomas Mann, John E. Woods, T.J. Reed</br>0.860</br>ID : 80890</figcaption></div><div style=\"float: left; margin-right:30px; width:250px; height:350px\"><img  src=\"https://images.gr-assets.com/books/1309376701m/53064.jpg\" width=120/><figcaption>Der Tod in Venedig</br>Thomas Mann, Joachim Neugroschel</br>0.658</br>ID : 53064</figcaption></div><div style=\"float: left; margin-right:30px; width:250px; height:350px\"><img  src=\"https://images.gr-assets.com/books/1409112276m/343.jpg\" width=120/><figcaption>Das Parfum. Die Geschichte eines Mörders</br>Patrick Süskind, John E. Woods</br>0.623</br>ID : 343</figcaption></div><div style=\"float: left; margin-right:30px; width:250px; height:350px\"><img  src=\"https://images.gr-assets.com/books/1410132000m/53061.jpg\" width=120/><figcaption>Der Tod in Venedig</br>Thomas Mann, Michael Henry Heim, Michael Cunningham</br>0.613</br>ID : 53061</figcaption></div><div style=\"float: left; margin-right:30px; width:250px; height:350px\"><img  src=\"https://images.gr-assets.com/books/1327945103m/35743.jpg\" width=120/><figcaption>Die Blechtrommel</br>Günter Grass</br>0.375</br>ID : 35743</figcaption></div><div style=\"float: left; margin-right:30px; width:250px; height:350px\"><img  src=\"https://s.gr-assets.com/assets/nophoto/book/111x148-bcc042a9c91a29c1d680899eff700a03.png\" width=120/><figcaption>Der Steppenwolf: Erzählung</br>Hermann Hesse, Basil Creighton</br>0.350</br>ID : 16631</figcaption></div><div style=\"float: left; margin-right:30px; width:250px; height:350px\"><img  src=\"https://images.gr-assets.com/books/1331696371m/333538.jpg\" width=120/><figcaption>Das Schloß</br>Franz Kafka, Mark Harman, Regaip Minareci, Şerif Yeşilbucak</br>0.335</br>ID : 333538</figcaption></div><div style=\"float: left; margin-right:30px; width:250px; height:350px\"><img  src=\"https://images.gr-assets.com/books/1327894257m/22911.jpg\" width=120/><figcaption>Amerika</br>Franz Kafka, بهرام مقدادی</br>0.320</br>ID : 22911</figcaption></div><div style=\"float: left; margin-right:30px; width:250px; height:350px\"><img  src=\"https://images.gr-assets.com/books/1265401884m/9717.jpg\" width=120/><figcaption>Nesnesitelná lehkost bytí</br>Milan Kundera, Michael Henry Heim</br>0.310</br>ID : 9717</figcaption></div>"
      ],
      "text/plain": [
       "<IPython.core.display.HTML object>"
      ]
     },
     "metadata": {},
     "output_type": "display_data"
    }
   ],
   "source": [
    "Display_Recommendation(rec, selected)"
   ]
  },
  {
   "cell_type": "markdown",
   "metadata": {},
   "source": [
    "# Author based recommendation"
   ]
  },
  {
   "cell_type": "code",
   "execution_count": 102,
   "metadata": {},
   "outputs": [],
   "source": [
    "AuthorList = {}\n",
    "for i in books[\"authors\"]:\n",
    "    authors = i.split(\", \")\n",
    "    for a in authors:\n",
    "        AuthorList[a] = len(AuthorList)"
   ]
  },
  {
   "cell_type": "code",
   "execution_count": 386,
   "metadata": {},
   "outputs": [],
   "source": [
    "def Auth2Vec(authors):\n",
    "    ret = np.zeros(len(AuthorList))\n",
    "    for i in authors:\n",
    "        ret[AuthorList[i]] = 1\n",
    "    return ret\n",
    "\n",
    "def Authors_similarity(bookId1, bookId2, authList1, authList2):\n",
    "    i = bookList[bookId1]-1\n",
    "    j = bookList[bookId2]-1\n",
    "    ret = BookSimMatrix[i, j, 1]\n",
    "    if ret == -2:\n",
    "        a = authList1\n",
    "        b = authList2\n",
    "        ret = cosine_similarity([Auth2Vec(a)], [Auth2Vec(b)])[0][0]\n",
    "        BookSimMatrix[i, j, 1] = ret\n",
    "        BookSimMatrix[j, i, 1] = ret\n",
    "    return ret\n",
    "\n",
    "def Authors_similarity2(authVec, authList):\n",
    "    a = authList\n",
    "    ret = cosine_similarity([authVec], [Auth2Vec(a)])[0][0]\n",
    "    return ret"
   ]
  },
  {
   "cell_type": "code",
   "execution_count": 439,
   "metadata": {},
   "outputs": [],
   "source": [
    "from sklearn.metrics.pairwise import cosine_similarity\n",
    "selected = 88077\n",
    "rec = []\n",
    "sb = books.loc[bookList[selected]-1].authors.split(\", \")\n",
    "for index, b in books.iterrows():\n",
    "    i = b.authors.split(\", \")\n",
    "    sim = Authors_similarity(selected, b.book_id, sb, i)\n",
    "    if sim > 0.45:\n",
    "        rec.append([b.book_id, b.original_title, sim])"
   ]
  },
  {
   "cell_type": "code",
   "execution_count": 440,
   "metadata": {
    "scrolled": false
   },
   "outputs": [
    {
     "name": "stdout",
     "output_type": "stream",
     "text": [
      "Based on  Der Zauberberg  we recommend : \n"
     ]
    },
    {
     "data": {
      "text/html": [
       "<div style=\"float: left; margin-right:30px; width:250px; height:350px\"><img  src=\"https://images.gr-assets.com/books/1337128414m/80890.jpg\" width=120/><figcaption>Buddenbrooks: Verfall einer Familie</br>Thomas Mann, John E. Woods, T.J. Reed</br>1.0</br>ID : 80890</figcaption></div><div style=\"float: left; margin-right:30px; width:250px; height:350px\"><img  src=\"https://images.gr-assets.com/books/1403170928m/88077.jpg\" width=120/><figcaption>Der Zauberberg</br>Thomas Mann, John E. Woods</br>1.0</br>ID : 88077</figcaption></div><div style=\"float: left; margin-right:30px; width:250px; height:350px\"><img  src=\"https://images.gr-assets.com/books/1309376701m/53064.jpg\" width=120/><figcaption>Der Tod in Venedig</br>Thomas Mann, Joachim Neugroschel</br>0.707</br>ID : 53064</figcaption></div><div style=\"float: left; margin-right:30px; width:250px; height:350px\"><img  src=\"https://images.gr-assets.com/books/1409112276m/343.jpg\" width=120/><figcaption>Das Parfum. Die Geschichte eines Mörders</br>Patrick Süskind, John E. Woods</br>0.707</br>ID : 343</figcaption></div><div style=\"float: left; margin-right:30px; width:250px; height:350px\"><img  src=\"https://images.gr-assets.com/books/1410132000m/53061.jpg\" width=120/><figcaption>Der Tod in Venedig</br>Thomas Mann, Michael Henry Heim, Michael Cunningham</br>0.577</br>ID : 53061</figcaption></div>"
      ],
      "text/plain": [
       "<IPython.core.display.HTML object>"
      ]
     },
     "metadata": {},
     "output_type": "display_data"
    }
   ],
   "source": [
    "Display_Recommendation(rec, selected, 6)"
   ]
  },
  {
   "cell_type": "code",
   "execution_count": 589,
   "metadata": {
    "scrolled": true
   },
   "outputs": [
    {
     "name": "stdout",
     "output_type": "stream",
     "text": [
      "88077    Der Zauberberg  :  1.0\n",
      "53064    Der Tod in Venedig  :  0.7071067811865475\n",
      "343    Das Parfum. Die Geschichte eines Mörders  :  0.7071067811865475\n",
      "80890    Buddenbrooks: Verfall einer Familie  :  1.0\n"
     ]
    }
   ],
   "source": [
    "from sklearn.metrics.pairwise import cosine_similarity\n",
    "selected = 1\n",
    "rec = []\n",
    "sb = [\"Thomas Mann\"]\n",
    "for index, b in books.iterrows():\n",
    "    i = b.authors.split(\", \")\n",
    "    sim = Authors_similarity(sb, i)\n",
    "    \n",
    "    if sim > 0.65:\n",
    "        rec.append([b.book_id, b.original_title, sim])\n",
    "\n",
    "rec = np.array(rec)\n",
    "ind=np.argsort(rec[:,1])\n",
    "rec2 = np.array(rec)[ind][::-1]\n",
    "for i in rec2:\n",
    "    print(i[0],\"  \", i[1], \" : \", i[2])"
   ]
  },
  {
   "cell_type": "markdown",
   "metadata": {},
   "source": [
    "# Ratings based recommendation"
   ]
  },
  {
   "cell_type": "code",
   "execution_count": 115,
   "metadata": {},
   "outputs": [],
   "source": [
    "RatingMatrix = {}\n",
    "for index, r in ratings.iterrows():\n",
    "    if r.book_id not in RatingMatrix: RatingMatrix[r.book_id] = [[r.user_id, r.rating]]\n",
    "    else: RatingMatrix[r.book_id].append([r.user_id, r.rating])\n",
    "    "
   ]
  },
  {
   "cell_type": "code",
   "execution_count": 116,
   "metadata": {},
   "outputs": [],
   "source": [
    "def Rating2Vec(UserRatings):\n",
    "    ret = np.zeros(len(ratings.user_id.values))\n",
    "    for i in UserRatings:\n",
    "        ret[i[0]] = i[1]\n",
    "    return ret\n",
    "\n",
    "def Ratings_similarity(ratings1, ratings2):\n",
    "    return cosine_similarity([Rating2Vec(ratings1)], [Rating2Vec(ratings2)])[0][0]"
   ]
  },
  {
   "cell_type": "code",
   "execution_count": null,
   "metadata": {},
   "outputs": [],
   "source": []
  },
  {
   "cell_type": "markdown",
   "metadata": {},
   "source": [
    "# Mixed recommendation"
   ]
  },
  {
   "cell_type": "code",
   "execution_count": 279,
   "metadata": {},
   "outputs": [],
   "source": [
    "def Recommend_with_book(bookId, w=[0.5, 0.5]):\n",
    "    rec = []\n",
    "    sa = books[books[\"book_id\"] == bookId].authors.values[0].split(\", \")\n",
    "    for index, b in books.iterrows():\n",
    "        a = b.authors.split(\", \")\n",
    "        \n",
    "        simT = Tags_similarity(bookId, b.book_id)\n",
    "        simA = Authors_similarity(bookId, b.book_id, sa, a)\n",
    "        \n",
    "        sim = (w[0] * simT + w[1] * simA)\n",
    "        \n",
    "        if sim > 0.05:\n",
    "            rec.append([b.book_id, b.original_title, sim])\n",
    "            \n",
    "    return rec"
   ]
  },
  {
   "cell_type": "code",
   "execution_count": 432,
   "metadata": {},
   "outputs": [],
   "source": [
    "bookId = 1\n",
    "rec = Recommend_with_book(bookId)"
   ]
  },
  {
   "cell_type": "code",
   "execution_count": 433,
   "metadata": {
    "scrolled": true
   },
   "outputs": [
    {
     "name": "stdout",
     "output_type": "stream",
     "text": [
      "Based on  Harry Potter and the Half-Blood Prince  we recommend : \n"
     ]
    },
    {
     "data": {
      "text/html": [
       "<div style=\"float: left; margin-right:30px; width:250px; height:350px\"><img  src=\"https://images.gr-assets.com/books/1361039191m/1.jpg\" width=120/><figcaption>Harry Potter and the Half-Blood Prince</br>J.K. Rowling, Mary GrandPré</br>1.000</br>ID : 1</figcaption></div><div style=\"float: left; margin-right:30px; width:250px; height:350px\"><img  src=\"https://images.gr-assets.com/books/1474171184m/136251.jpg\" width=120/><figcaption>Harry Potter and the Deathly Hallows</br>J.K. Rowling, Mary GrandPré</br>0.975</br>ID : 136251</figcaption></div><div style=\"float: left; margin-right:30px; width:250px; height:350px\"><img  src=\"https://images.gr-assets.com/books/1474154022m/3.jpg\" width=120/><figcaption>Harry Potter and the Philosopher's Stone</br>J.K. Rowling, Mary GrandPré</br>0.967</br>ID : 3</figcaption></div><div style=\"float: left; margin-right:30px; width:250px; height:350px\"><img  src=\"https://images.gr-assets.com/books/1474169725m/15881.jpg\" width=120/><figcaption>Harry Potter and the Chamber of Secrets</br>J.K. Rowling, Mary GrandPré</br>0.960</br>ID : 15881</figcaption></div><div style=\"float: left; margin-right:30px; width:250px; height:350px\"><img  src=\"https://images.gr-assets.com/books/1361482611m/6.jpg\" width=120/><figcaption>Harry Potter and the Goblet of Fire</br>J.K. Rowling, Mary GrandPré</br>0.955</br>ID : 6</figcaption></div><div style=\"float: left; margin-right:30px; width:250px; height:350px\"><img  src=\"https://images.gr-assets.com/books/1499277281m/5.jpg\" width=120/><figcaption>Harry Potter and the Prisoner of Azkaban</br>J.K. Rowling, Mary GrandPré, Rufus Beck</br>0.878</br>ID : 5</figcaption></div><div style=\"float: left; margin-right:30px; width:250px; height:350px\"><img  src=\"https://images.gr-assets.com/books/1387141547m/2.jpg\" width=120/><figcaption>Harry Potter and the Order of the Phoenix</br>J.K. Rowling, Mary GrandPré</br>0.845</br>ID : 2</figcaption></div><div style=\"float: left; margin-right:30px; width:250px; height:350px\"><img  src=\"https://s.gr-assets.com/assets/nophoto/book/111x148-bcc042a9c91a29c1d680899eff700a03.png\" width=120/><figcaption>Harry Potter Boxed Set Books 1-4</br>J.K. Rowling, Mary GrandPré</br>0.820</br>ID : 99298</figcaption></div><div style=\"float: left; margin-right:30px; width:250px; height:350px\"><img  src=\"https://s.gr-assets.com/assets/nophoto/book/111x148-bcc042a9c91a29c1d680899eff700a03.png\" width=120/><figcaption>nan</br>J.K. Rowling, Mary GrandPré</br>0.775</br>ID : 8</figcaption></div><div style=\"float: left; margin-right:30px; width:250px; height:350px\"><img  src=\"https://images.gr-assets.com/books/1392579059m/862041.jpg\" width=120/><figcaption>Complete Harry Potter Boxed Set</br>J.K. Rowling</br>0.738</br>ID : 862041</figcaption></div>"
      ],
      "text/plain": [
       "<IPython.core.display.HTML object>"
      ]
     },
     "metadata": {},
     "output_type": "display_data"
    }
   ],
   "source": [
    "Display_Recommendation(rec, bookId, 10)"
   ]
  },
  {
   "cell_type": "code",
   "execution_count": null,
   "metadata": {
    "scrolled": true
   },
   "outputs": [],
   "source": []
  },
  {
   "cell_type": "markdown",
   "metadata": {},
   "source": [
    "# Recommend to user"
   ]
  },
  {
   "cell_type": "code",
   "execution_count": 441,
   "metadata": {},
   "outputs": [],
   "source": [
    "class User:\n",
    "    Authors = np.zeros(len(AuthorList))\n",
    "    Books = []\n",
    "    \n",
    "    def have_read(self, bookId):\n",
    "        book = books.loc[bookList[bookId]-1]\n",
    "        self.Authors += Auth2Vec(book.authors.split(', '))\n",
    "        self.Books.append(bookId)\n",
    "        \n",
    "    def recommend_by_authors(self):\n",
    "        rec = []\n",
    "        for index, b in books.iterrows():\n",
    "            i = b.authors.split(\", \")\n",
    "            sim = Authors_similarity(self.Authors, i)\n",
    "            if sim > 0.05:\n",
    "                rec.append([b.book_id, b.original_title, sim])\n",
    "        return rec\n",
    "    \n",
    "    def recommend_by_books(self, w = [0.5, 0.5]):\n",
    "        rec = []\n",
    "        booksBuf = []\n",
    "        for b in self.Books:\n",
    "            booksBuf.append([b, books.loc[bookList[b]-1].authors.split(\", \")])\n",
    "            \n",
    "        for index, b in books.iterrows():\n",
    "            if b.book_id not in self.Books:\n",
    "                a = b.authors.split(\", \")\n",
    "\n",
    "                simT = 0\n",
    "                simA = 0\n",
    "                for i in booksBuf:\n",
    "                    simT += Tags_similarity(i[0], b.book_id)\n",
    "                    simA += Authors_similarity(i[0], b.book_id, i[1], a)\n",
    "                simT /= len(booksBuf)\n",
    "                simA /= len(booksBuf)\n",
    "                sim = (w[0] * simT + w[1] * simA)\n",
    "\n",
    "                if sim > 0.05:\n",
    "                    rec.append([b.book_id, b.original_title, sim])\n",
    "\n",
    "        return rec\n"
   ]
  },
  {
   "cell_type": "code",
   "execution_count": 444,
   "metadata": {},
   "outputs": [],
   "source": [
    "U = User()"
   ]
  },
  {
   "cell_type": "code",
   "execution_count": 445,
   "metadata": {},
   "outputs": [],
   "source": [
    "U.have_read(22911)\n",
    "U.have_read(80890)\n",
    "U.have_read(333538)\n",
    "U.have_read(17690)"
   ]
  },
  {
   "cell_type": "code",
   "execution_count": 448,
   "metadata": {
    "scrolled": false
   },
   "outputs": [
    {
     "name": "stdout",
     "output_type": "stream",
     "text": [
      "Based on  Harry Potter and the Half-Blood Prince  we recommend : \n"
     ]
    },
    {
     "data": {
      "text/html": [
       "<div style=\"float: left; margin-right:30px; width:250px; height:350px\"><img  src=\"https://images.gr-assets.com/books/1403170928m/88077.jpg\" width=120/><figcaption>Der Zauberberg</br>Thomas Mann, John E. Woods</br>0.578</br>ID : 88077</figcaption></div><div style=\"float: left; margin-right:30px; width:250px; height:350px\"><img  src=\"https://s.gr-assets.com/assets/nophoto/book/111x148-bcc042a9c91a29c1d680899eff700a03.png\" width=120/><figcaption>Der Steppenwolf: Erzählung</br>Hermann Hesse, Basil Creighton</br>0.530</br>ID : 16631</figcaption></div><div style=\"float: left; margin-right:30px; width:250px; height:350px\"><img  src=\"https://images.gr-assets.com/books/1410132000m/53061.jpg\" width=120/><figcaption>Der Tod in Venedig</br>Thomas Mann, Michael Henry Heim, Michael Cunningham</br>0.506</br>ID : 53061</figcaption></div><div style=\"float: left; margin-right:30px; width:250px; height:350px\"><img  src=\"https://images.gr-assets.com/books/1359061917m/485894.jpg\" width=120/><figcaption>Die Verwandlung</br>Franz Kafka, Stanley Corngold</br>0.506</br>ID : 485894</figcaption></div><div style=\"float: left; margin-right:30px; width:250px; height:350px\"><img  src=\"https://images.gr-assets.com/books/1327945103m/35743.jpg\" width=120/><figcaption>Die Blechtrommel</br>Günter Grass</br>0.490</br>ID : 35743</figcaption></div><div style=\"float: left; margin-right:30px; width:250px; height:350px\"><img  src=\"https://s.gr-assets.com/assets/nophoto/book/111x148-bcc042a9c91a29c1d680899eff700a03.png\" width=120/><figcaption>Das Glasperlenspiel</br>Hermann Hesse, Richard Winston, Clara Winston, Theodore Ziolkowski</br>0.478</br>ID : 16634</figcaption></div><div style=\"float: left; margin-right:30px; width:250px; height:350px\"><img  src=\"https://images.gr-assets.com/books/1265401884m/9717.jpg\" width=120/><figcaption>Nesnesitelná lehkost bytí</br>Milan Kundera, Michael Henry Heim</br>0.460</br>ID : 9717</figcaption></div><div style=\"float: left; margin-right:30px; width:250px; height:350px\"><img  src=\"https://images.gr-assets.com/books/1409112276m/343.jpg\" width=120/><figcaption>Das Parfum. Die Geschichte eines Mörders</br>Patrick Süskind, John E. Woods</br>0.459</br>ID : 343</figcaption></div><div style=\"float: left; margin-right:30px; width:250px; height:350px\"><img  src=\"https://s.gr-assets.com/assets/nophoto/book/111x148-bcc042a9c91a29c1d680899eff700a03.png\" width=120/><figcaption>Die Verwandlung und andere Erzählungen</br>Franz Kafka, Jason Baker, Donna Freed</br>0.459</br>ID : 7723</figcaption></div>"
      ],
      "text/plain": [
       "<IPython.core.display.HTML object>"
      ]
     },
     "metadata": {},
     "output_type": "display_data"
    }
   ],
   "source": [
    "Display_Recommendation(U.recommend_by_books([0.8, 0.2]), 1, 9)"
   ]
  },
  {
   "cell_type": "code",
   "execution_count": null,
   "metadata": {},
   "outputs": [],
   "source": []
  },
  {
   "cell_type": "code",
   "execution_count": null,
   "metadata": {},
   "outputs": [],
   "source": []
  }
 ],
 "metadata": {
  "kernelspec": {
   "display_name": "Python 3",
   "language": "python",
   "name": "python3"
  },
  "language_info": {
   "codemirror_mode": {
    "name": "ipython",
    "version": 3
   },
   "file_extension": ".py",
   "mimetype": "text/x-python",
   "name": "python",
   "nbconvert_exporter": "python",
   "pygments_lexer": "ipython3",
   "version": "3.8.3"
  }
 },
 "nbformat": 4,
 "nbformat_minor": 4
}
